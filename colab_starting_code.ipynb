{
  "cells": [
    {
      "cell_type": "markdown",
      "metadata": {
        "id": "BfVvO8RtqRgO"
      },
      "source": [
        "# PYTHON 3.8 INSTALLATION"
      ]
    },
    {
      "cell_type": "code",
      "execution_count": 1,
      "metadata": {
        "collapsed": true,
        "id": "aiCBarOLjbSk"
      },
      "outputs": [
        {
          "name": "stderr",
          "output_type": "stream",
          "text": [
            "\"apt-get\" non � riconosciuto come comando interno o esterno,\n",
            " un programma eseguibile o un file batch.\n"
          ]
        }
      ],
      "source": [
        "!apt-get install python3.8 python3.8-distutils python3.8-dev python3-pip -y"
      ]
    },
    {
      "cell_type": "code",
      "execution_count": 2,
      "metadata": {
        "id": "kGcrkQGQojFC"
      },
      "outputs": [
        {
          "name": "stderr",
          "output_type": "stream",
          "text": [
            "\"python3.8\" non � riconosciuto come comando interno o esterno,\n",
            " un programma eseguibile o un file batch.\n"
          ]
        }
      ],
      "source": [
        "!python3.8 --version"
      ]
    },
    {
      "cell_type": "code",
      "execution_count": 3,
      "metadata": {
        "id": "xq3GzCzlqDs2"
      },
      "outputs": [
        {
          "name": "stderr",
          "output_type": "stream",
          "text": [
            "\"python3.8\" non � riconosciuto come comando interno o esterno,\n",
            " un programma eseguibile o un file batch.\n"
          ]
        }
      ],
      "source": [
        "!python3.8 -m pip --version"
      ]
    },
    {
      "cell_type": "code",
      "execution_count": 4,
      "metadata": {
        "id": "7VdrJhX8ivwV"
      },
      "outputs": [
        {
          "name": "stderr",
          "output_type": "stream",
          "text": [
            "\"apt-get\" non � riconosciuto come comando interno o esterno,\n",
            " un programma eseguibile o un file batch.\n",
            "\"apt-get\" non � riconosciuto come comando interno o esterno,\n",
            " un programma eseguibile o un file batch.\n"
          ]
        }
      ],
      "source": [
        "!apt-get install -y \\\n",
        "    libgl1-mesa-dev \\\n",
        "    libgl1-mesa-glx \\\n",
        "    libglew-dev \\\n",
        "    libosmesa6-dev \\\n",
        "    software-properties-common\n",
        "\n",
        "!apt-get install -y patchelf\n"
      ]
    },
    {
      "cell_type": "markdown",
      "metadata": {
        "id": "ydblMr8VqPjR"
      },
      "source": [
        "# MUJOCO SETUP"
      ]
    },
    {
      "cell_type": "code",
      "execution_count": 5,
      "metadata": {
        "id": "rhRWYq2sizT8"
      },
      "outputs": [
        {
          "name": "stderr",
          "output_type": "stream",
          "text": [
            "Sintassi del comando errata.\n",
            "\"wget\" non � riconosciuto come comando interno o esterno,\n",
            " un programma eseguibile o un file batch.\n",
            "tar: Error opening archive: Failed to open 'mujoco.tar.gz'\n",
            "\"rm\" non � riconosciuto come comando interno o esterno,\n",
            " un programma eseguibile o un file batch.\n"
          ]
        }
      ],
      "source": [
        "!mkdir ~/.mujoco\n",
        "!wget -q https://mujoco.org/download/mujoco210-linux-x86_64.tar.gz -O mujoco.tar.gz\n",
        "!tar -zxf mujoco.tar.gz -C \"$HOME/.mujoco\"\n",
        "!rm mujoco.tar.gz"
      ]
    },
    {
      "cell_type": "code",
      "execution_count": 6,
      "metadata": {
        "id": "B_4CDleT3U5S"
      },
      "outputs": [
        {
          "name": "stderr",
          "output_type": "stream",
          "text": [
            "\"ls\" non � riconosciuto come comando interno o esterno,\n",
            " un programma eseguibile o un file batch.\n"
          ]
        }
      ],
      "source": [
        "!ls \"$HOME/.mujoco\""
      ]
    },
    {
      "cell_type": "code",
      "execution_count": 7,
      "metadata": {
        "id": "AsDMFX-n3gbj"
      },
      "outputs": [
        {
          "name": "stdout",
          "output_type": "stream",
          "text": [
            "env: LD_LIBRARY_PATH=/root/.mujoco/mujoco210/bin:/usr/local/nvidia/lib:/usr/local/nvidia/lib64\n"
          ]
        }
      ],
      "source": [
        "%env LD_LIBRARY_PATH=/root/.mujoco/mujoco210/bin:/usr/local/nvidia/lib:/usr/local/nvidia/lib64"
      ]
    },
    {
      "cell_type": "markdown",
      "metadata": {
        "id": "FrbVWSBLqiW3"
      },
      "source": [
        "# PROJECT SETUP"
      ]
    },
    {
      "cell_type": "code",
      "execution_count": 8,
      "metadata": {
        "id": "BeinMADB4EOv"
      },
      "outputs": [
        {
          "name": "stdout",
          "output_type": "stream",
          "text": [
            "[WinError 2] Impossibile trovare il file specificato: '/content'\n",
            "c:\\Users\\sonia\\Documents\\rl_mldl\\rl_mldl_25\n"
          ]
        },
        {
          "name": "stderr",
          "output_type": "stream",
          "text": [
            "C:\\Users\\sonia\\AppData\\Local\\Packages\\PythonSoftwareFoundation.Python.3.11_qbz5n2kfra8p0\\LocalCache\\local-packages\\Python311\\site-packages\\IPython\\core\\magics\\osm.py:393: UserWarning: This is now an optional IPython functionality, using bookmarks requires you to install the `pickleshare` library.\n",
            "  bkms = self.shell.db.get('bookmarks', {})\n"
          ]
        }
      ],
      "source": [
        "%cd /content"
      ]
    },
    {
      "cell_type": "code",
      "execution_count": 9,
      "metadata": {
        "id": "Cw1IBP4sj1FT"
      },
      "outputs": [
        {
          "name": "stderr",
          "output_type": "stream",
          "text": [
            "fatal: repository 'YOUR_GITHUB_REPO_URL_HERE' does not exist\n"
          ]
        }
      ],
      "source": [
        "# e.g. !git clone https://github.com/lambdavi/rl_mldl_25.git\n",
        "!git clone YOUR_GITHUB_REPO_URL_HERE"
      ]
    },
    {
      "cell_type": "code",
      "execution_count": 10,
      "metadata": {
        "id": "pJXm_mwClkhM"
      },
      "outputs": [
        {
          "name": "stdout",
          "output_type": "stream",
          "text": [
            "[WinError 2] Impossibile trovare il file specificato: 'YOUR_REPO_NAME_HERE'\n",
            "c:\\Users\\sonia\\Documents\\rl_mldl\\rl_mldl_25\n"
          ]
        }
      ],
      "source": [
        "# e.g. %cd rl_mldl_25\n",
        "%cd YOUR_REPO_NAME_HERE\n"
      ]
    },
    {
      "cell_type": "code",
      "execution_count": 11,
      "metadata": {
        "id": "JaxPjYwrntNG"
      },
      "outputs": [
        {
          "name": "stderr",
          "output_type": "stream",
          "text": [
            "\"python3.8\" non � riconosciuto come comando interno o esterno,\n",
            " un programma eseguibile o un file batch.\n"
          ]
        }
      ],
      "source": [
        "!python3.8 -m pip install -r requirements.txt"
      ]
    },
    {
      "cell_type": "code",
      "execution_count": 12,
      "metadata": {
        "collapsed": true,
        "id": "Emx_jSLsnwFW"
      },
      "outputs": [
        {
          "name": "stderr",
          "output_type": "stream",
          "text": [
            "fatal: '#' does not appear to be a git repository\n",
            "fatal: Could not read from remote repository.\n",
            "\n",
            "Please make sure you have the correct access rights\n",
            "and the repository exists.\n",
            "\"python3.8\" non � riconosciuto come comando interno o esterno,\n",
            " un programma eseguibile o un file batch.\n"
          ]
        }
      ],
      "source": [
        "!git pull # Remember to pull every time you make local changes\n",
        "!python3.8 test_random_policy.py\n",
        "# If you see this error: mujoco_py.cymj.GlfwError: Failed to initialize GLFW\n",
        "# You need to make sure you are not rendering the environment (check in the code if render=True) since\n",
        "# colab doesn't support it (officially)"
      ]
    },
    {
      "cell_type": "code",
      "execution_count": null,
      "metadata": {
        "id": "oSAV7rXcowPG"
      },
      "outputs": [],
      "source": []
    }
  ],
  "metadata": {
    "colab": {
      "collapsed_sections": [
        "ydblMr8VqPjR"
      ],
      "provenance": []
    },
    "kernelspec": {
      "display_name": "Python 3",
      "name": "python3"
    },
    "language_info": {
      "codemirror_mode": {
        "name": "ipython",
        "version": 3
      },
      "file_extension": ".py",
      "mimetype": "text/x-python",
      "name": "python",
      "nbconvert_exporter": "python",
      "pygments_lexer": "ipython3",
      "version": "3.11.9"
    }
  },
  "nbformat": 4,
  "nbformat_minor": 0
}
